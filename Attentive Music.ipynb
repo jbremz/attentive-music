{
 "cells": [
  {
   "cell_type": "markdown",
   "metadata": {},
   "source": [
    "# Attentive Music\n",
    "\n",
    "I plan to use a Transformer architecture to generate musical MIDI sequences."
   ]
  },
  {
   "cell_type": "code",
   "execution_count": 18,
   "metadata": {},
   "outputs": [],
   "source": [
    "from music21 import *\n",
    "import os, sys\n",
    "import numpy as np\n",
    "from tqdm import tqdm_notebook as tqdm\n",
    "import torch\n",
    "import torch.nn as nn\n",
    "import torch.nn.functional as F\n",
    "from torch.autograd import Variable\n",
    "import torch.optim as optim\n",
    "from torchsample.modules import ModuleTrainer\n",
    "import pickle\n",
    "from sklearn.model_selection import train_test_split\n",
    "from torch.utils.data import Dataset, DataLoader\n",
    "import ipdb\n",
    "\n",
    "device = torch.device(\"cuda:0\")"
   ]
  },
  {
   "cell_type": "markdown",
   "metadata": {},
   "source": [
    "## Data\n",
    "\n",
    "I've found a [dataset](https://github.com/jukedeck/nottingham-dataset) of MIDI files."
   ]
  },
  {
   "cell_type": "code",
   "execution_count": 2,
   "metadata": {},
   "outputs": [
    {
     "data": {
      "text/plain": [
       "['waltzes7.mid',\n",
       " 'reelsa-c79.mid',\n",
       " 'reelsr-t57.mid',\n",
       " 'jigs211.mid',\n",
       " 'morris29.mid',\n",
       " 'reelsu-z8.mid',\n",
       " 'jigs156.mid',\n",
       " 'ashover5.mid',\n",
       " 'reelsa-c32.mid',\n",
       " 'morris10.mid']"
      ]
     },
     "execution_count": 2,
     "metadata": {},
     "output_type": "execute_result"
    }
   ],
   "source": [
    "PATH=\"../nottingham-dataset/MIDI\"\n",
    "files = [f for f in os.listdir(PATH) if os.path.isfile(PATH+'/'+f)]\n",
    "files[:10]"
   ]
  },
  {
   "cell_type": "markdown",
   "metadata": {},
   "source": [
    "From [this](https://www.hackerearth.com/blog/machine-learning/jazz-music-using-deep-learning/) tutorial for parsing MIDI."
   ]
  },
  {
   "cell_type": "code",
   "execution_count": 3,
   "metadata": {},
   "outputs": [],
   "source": [
    "def get_notes(file_list, PATH):  \n",
    "    notes = []  \n",
    "    for file in tqdm(file_list):  \n",
    "    # converting .mid file to stream object\n",
    "        midi = converter.parse(PATH + '/' + file)  \n",
    "        notes_to_parse = [] \n",
    "        try:  \n",
    "            # Given a single stream, partition into a part for each unique instrument  \n",
    "            parts = instrument.partitionByInstrument(midi)  \n",
    "        except:  \n",
    "            pass  \n",
    "        if parts: # if parts has instrument parts   \n",
    "            notes_to_parse = parts.parts[0].recurse()  \n",
    "        else:  \n",
    "            notes_to_parse = midi.flat.notes  \n",
    "        for element in notes_to_parse:   \n",
    "            if isinstance(element, note.Note):  \n",
    "                # if element is a note, extract pitch   \n",
    "                notes.append(str(element.pitch))  \n",
    "            elif(isinstance(element, chord.Chord)):  \n",
    "                # if element is a chord, append the normal form of the   \n",
    "                # chord (a list of integers) to the list of notes.   \n",
    "                notes.append('.'.join(str(n) for n in element.normalOrder)) \n",
    "    \n",
    "    with open('data/notes', 'wb') as filepath:  \n",
    "        pickle.dump(notes, filepath)  \n",
    "    return notes"
   ]
  },
  {
   "cell_type": "code",
   "execution_count": 4,
   "metadata": {},
   "outputs": [],
   "source": [
    "# Create notes again\n",
    "# notes = get_notes(files, PATH)\n",
    "\n",
    "# Load from previously saved version\n",
    "if os.path.getsize('data/notes') > 0:\n",
    "    with open('data/notes', 'rb') as f:\n",
    "        unpickler = pickle.Unpickler(f)\n",
    "        notes = unpickler.load()"
   ]
  },
  {
   "cell_type": "code",
   "execution_count": 28,
   "metadata": {},
   "outputs": [
    {
     "name": "stdout",
     "output_type": "stream",
     "text": [
      "Vocab size: 120\n"
     ]
    }
   ],
   "source": [
    "pitchnames = sorted(set(item for item in notes))\n",
    "note_to_int = dict((note, number) for number, note in enumerate(pitchnames))\n",
    "print('Vocab size:',len(pitchnames))"
   ]
  },
  {
   "cell_type": "code",
   "execution_count": 6,
   "metadata": {},
   "outputs": [
    {
     "data": {
      "text/plain": [
       "[88, 111, 34, 108, 103, 88, 34, 110, 88, 94]"
      ]
     },
     "execution_count": 6,
     "metadata": {},
     "output_type": "execute_result"
    }
   ],
   "source": [
    "int_notes = [note_to_int[x] for x in notes]; int_notes[:10]"
   ]
  },
  {
   "cell_type": "code",
   "execution_count": 7,
   "metadata": {},
   "outputs": [],
   "source": [
    "bs = 8"
   ]
  },
  {
   "cell_type": "code",
   "execution_count": 8,
   "metadata": {},
   "outputs": [],
   "source": [
    "xs = np.array([np.array(int_notes[i*bs:(i+1)*bs]) for i in range(len(int_notes)//bs)])\n",
    "# ys = np.array([int_notes[(i+1)*bs] for i in range(len(int_notes)//bs)])\n",
    "ys = np.array([np.array(int_notes[i*bs+1:(i+1)*bs+1]) for i in range(len(int_notes)//bs)])"
   ]
  },
  {
   "cell_type": "code",
   "execution_count": 9,
   "metadata": {},
   "outputs": [
    {
     "data": {
      "text/plain": [
       "array([[ 88, 111,  34, 108, 103,  88,  34, 110],\n",
       "       [ 88,  94,  67, 118,  94,  88,  34, 110],\n",
       "       [ 88, 111,  34, 108, 103,  88,  34, 110],\n",
       "       [ 88,  94,  44, 108,  97,  83, 103,  34],\n",
       "       [ 88, 111,  34, 108, 103,  88,  34, 110],\n",
       "       [ 88,  94,  67, 118,  94,  88,  34, 110],\n",
       "       [ 88, 111,  34, 108, 103,  88,  34, 110],\n",
       "       [ 88,  94,  44, 108,  97,  83, 103,  34],\n",
       "       [ 88, 111,  34, 108, 103,  88,  34, 110],\n",
       "       [ 88,  94,  67, 118,  94,  88,  34, 110]])"
      ]
     },
     "execution_count": 9,
     "metadata": {},
     "output_type": "execute_result"
    }
   ],
   "source": [
    "xs[:10]"
   ]
  },
  {
   "cell_type": "markdown",
   "metadata": {},
   "source": [
    "These are the next notes in the sequence for each sequence in `xs`."
   ]
  },
  {
   "cell_type": "code",
   "execution_count": 10,
   "metadata": {},
   "outputs": [
    {
     "data": {
      "text/plain": [
       "array([[111,  34, 108, 103,  88,  34, 110,  88],\n",
       "       [ 94,  67, 118,  94,  88,  34, 110,  88],\n",
       "       [111,  34, 108, 103,  88,  34, 110,  88],\n",
       "       [ 94,  44, 108,  97,  83, 103,  34,  88],\n",
       "       [111,  34, 108, 103,  88,  34, 110,  88],\n",
       "       [ 94,  67, 118,  94,  88,  34, 110,  88],\n",
       "       [111,  34, 108, 103,  88,  34, 110,  88],\n",
       "       [ 94,  44, 108,  97,  83, 103,  34,  88],\n",
       "       [111,  34, 108, 103,  88,  34, 110,  88],\n",
       "       [ 94,  67, 118,  94,  88,  34, 110,  88]])"
      ]
     },
     "execution_count": 10,
     "metadata": {},
     "output_type": "execute_result"
    }
   ],
   "source": [
    "ys[:10]"
   ]
  },
  {
   "cell_type": "markdown",
   "metadata": {},
   "source": [
    "But our y data may need to be one-hot encoded for our training to work."
   ]
  },
  {
   "cell_type": "code",
   "execution_count": 11,
   "metadata": {},
   "outputs": [],
   "source": [
    "def one_hot(batch,vocab_size):\n",
    "    ones = torch.eye(vocab_size)\n",
    "    return ones.index_select(0,batch)"
   ]
  },
  {
   "cell_type": "code",
   "execution_count": 12,
   "metadata": {},
   "outputs": [
    {
     "data": {
      "text/plain": [
       "(30727, 8)"
      ]
     },
     "execution_count": 12,
     "metadata": {},
     "output_type": "execute_result"
    }
   ],
   "source": [
    "xs.shape"
   ]
  },
  {
   "cell_type": "code",
   "execution_count": 13,
   "metadata": {},
   "outputs": [],
   "source": [
    "x_tr, x_val, y_tr, y_val = train_test_split(xs[:30720], ys[:30720], test_size=0.25)"
   ]
  },
  {
   "cell_type": "code",
   "execution_count": 118,
   "metadata": {},
   "outputs": [],
   "source": [
    "x_tr, x_val, y_tr, y_val = train_test_split(xs[:1280], ys[:1280], test_size=0.25)"
   ]
  },
  {
   "cell_type": "code",
   "execution_count": 119,
   "metadata": {},
   "outputs": [],
   "source": [
    "def tensor(from_int):\n",
    "    return torch.from_numpy(np.array(from_int)).long()"
   ]
  },
  {
   "cell_type": "markdown",
   "metadata": {},
   "source": [
    "We need to create a class for our dataset."
   ]
  },
  {
   "cell_type": "code",
   "execution_count": 120,
   "metadata": {},
   "outputs": [],
   "source": [
    "class MusicData(Dataset):\n",
    "\n",
    "    def __init__(self, x_data, y_data):\n",
    "        self.len = len(x_data)\n",
    "        self.x_data = tensor(x_data)\n",
    "        self.y_data = tensor(y_data)\n",
    "            \n",
    "    def __getitem__(self, index):\n",
    "        return self.x_data[index], self.y_data[index]\n",
    "    \n",
    "    def __len__(self):\n",
    "        return self.len"
   ]
  },
  {
   "cell_type": "code",
   "execution_count": null,
   "metadata": {},
   "outputs": [],
   "source": [
    "tr_data = MusicData(x_tr, y_tr)\n",
    "val_data = MusicData(x_val, y_val)\n",
    "\n",
    "tr_loader = DataLoader(dataset=tr_data,\n",
    "                       batch_size=32,\n",
    "                       shuffle=True,\n",
    "                       num_workers=1,\n",
    "                       pin_memory=True)\n",
    "val_loader = DataLoader(dataset=val_data,\n",
    "                        batch_size=32,\n",
    "                        shuffle=False,\n",
    "                        num_workers=1,\n",
    "                        pin_memory=True)"
   ]
  },
  {
   "cell_type": "markdown",
   "metadata": {},
   "source": [
    "## LSTM\n",
    "\n",
    "Let's first try an LSTM as a simple example."
   ]
  },
  {
   "cell_type": "code",
   "execution_count": 122,
   "metadata": {},
   "outputs": [],
   "source": [
    "class LSTMTagger(nn.Module):\n",
    "\n",
    "    def __init__(self, embedding_dim, hidden_dim, vocab_size, num_layers, batch_size):\n",
    "        super(LSTMTagger, self).__init__()\n",
    "        self.hidden_dim = hidden_dim\n",
    "        self.num_layers = num_layers\n",
    "        self.batch_size = batch_size\n",
    "        self.vocab_size = vocab_size\n",
    "\n",
    "        self.word_embeddings = nn.Embedding(vocab_size, embedding_dim)\n",
    "        self.lstm = nn.LSTM(embedding_dim, hidden_dim, batch_size, dropout=0.5)\n",
    "        self.hidden2tag = nn.Linear(hidden_dim, vocab_size)\n",
    "        self.hidden = self.init_hidden()\n",
    "\n",
    "    def init_hidden(self):\n",
    "        return (torch.zeros(self.batch_size, self.num_layers, self.hidden_dim).cuda(),\n",
    "                torch.zeros(self.batch_size, self.num_layers, self.hidden_dim).cuda())\n",
    "\n",
    "    def forward(self, sentence):\n",
    "        embeds = self.word_embeddings(sentence)\n",
    "        lstm_out, self.hidden = self.lstm(\n",
    "            embeds.view(sentence.size(0),sentence.size(1), -1), self.hidden)\n",
    "        tag_space = self.hidden2tag(lstm_out)\n",
    "        tag_scores = F.log_softmax(tag_space, dim=-1).view(self.batch_size, self.vocab_size, -1)\n",
    "        return tag_scores"
   ]
  },
  {
   "cell_type": "markdown",
   "metadata": {},
   "source": [
    "A helper function to return the accuracy from the log_softmax and the labels."
   ]
  },
  {
   "cell_type": "code",
   "execution_count": 123,
   "metadata": {},
   "outputs": [],
   "source": [
    "def acc(pred, targ): return (pred.max(1)[1] == targ).sum().item()/(pred.max(1)[1] == targ).view(-1).size()[0]"
   ]
  },
  {
   "cell_type": "code",
   "execution_count": 124,
   "metadata": {},
   "outputs": [
    {
     "data": {
      "application/vnd.jupyter.widget-view+json": {
       "model_id": "acdc1a4834c7401b8f64f5799bf5931f",
       "version_major": 2,
       "version_minor": 0
      },
      "text/plain": [
       "HBox(children=(IntProgress(value=0, description='Epoch', max=4, style=ProgressStyle(description_width='initial…"
      ]
     },
     "metadata": {},
     "output_type": "display_data"
    },
    {
     "data": {
      "application/vnd.jupyter.widget-view+json": {
       "model_id": "cbd5fe6518774090bd95bdf054ae38b1",
       "version_major": 2,
       "version_minor": 0
      },
      "text/plain": [
       "HBox(children=(IntProgress(value=0, description='Batch', max=30, style=ProgressStyle(description_width='initia…"
      ]
     },
     "metadata": {},
     "output_type": "display_data"
    },
    {
     "name": "stdout",
     "output_type": "stream",
     "text": [
      "tensor(4.7404, device='cuda:0', grad_fn=<NllLoss2DBackward>)"
     ]
    },
    {
     "data": {
      "application/vnd.jupyter.widget-view+json": {
       "model_id": "64bcef469f7f41c1811579f357961bef",
       "version_major": 2,
       "version_minor": 0
      },
      "text/plain": [
       "HBox(children=(IntProgress(value=0, max=10), HTML(value='')))"
      ]
     },
     "metadata": {},
     "output_type": "display_data"
    },
    {
     "name": "stdout",
     "output_type": "stream",
     "text": [
      "val_acc: 0.029296875, val_loss:4.742605686187744\n"
     ]
    },
    {
     "data": {
      "application/vnd.jupyter.widget-view+json": {
       "model_id": "aad72815185948779df22353fd73fa61",
       "version_major": 2,
       "version_minor": 0
      },
      "text/plain": [
       "HBox(children=(IntProgress(value=0, description='Batch', max=30, style=ProgressStyle(description_width='initia…"
      ]
     },
     "metadata": {},
     "output_type": "display_data"
    },
    {
     "name": "stdout",
     "output_type": "stream",
     "text": [
      "tensor(4.6749, device='cuda:0', grad_fn=<NllLoss2DBackward>)"
     ]
    },
    {
     "data": {
      "application/vnd.jupyter.widget-view+json": {
       "model_id": "2dc13419bafa4a4b893f26b1b25f2361",
       "version_major": 2,
       "version_minor": 0
      },
      "text/plain": [
       "HBox(children=(IntProgress(value=0, max=10), HTML(value='')))"
      ]
     },
     "metadata": {},
     "output_type": "display_data"
    },
    {
     "name": "stdout",
     "output_type": "stream",
     "text": [
      "val_acc: 0.040234375, val_loss:4.694102764129639\n"
     ]
    },
    {
     "data": {
      "application/vnd.jupyter.widget-view+json": {
       "model_id": "288e4ea950b04924ad96941e25e487b5",
       "version_major": 2,
       "version_minor": 0
      },
      "text/plain": [
       "HBox(children=(IntProgress(value=0, description='Batch', max=30, style=ProgressStyle(description_width='initia…"
      ]
     },
     "metadata": {},
     "output_type": "display_data"
    },
    {
     "name": "stdout",
     "output_type": "stream",
     "text": [
      "tensor(4.6139, device='cuda:0', grad_fn=<NllLoss2DBackward>)"
     ]
    },
    {
     "data": {
      "application/vnd.jupyter.widget-view+json": {
       "model_id": "8cbc8025b2fc47c385572de9723e0d06",
       "version_major": 2,
       "version_minor": 0
      },
      "text/plain": [
       "HBox(children=(IntProgress(value=0, max=10), HTML(value='')))"
      ]
     },
     "metadata": {},
     "output_type": "display_data"
    },
    {
     "name": "stdout",
     "output_type": "stream",
     "text": [
      "val_acc: 0.034765625, val_loss:4.639859199523926\n"
     ]
    },
    {
     "data": {
      "application/vnd.jupyter.widget-view+json": {
       "model_id": "0529c2eb31804b5e9ac1bf99cbfe623e",
       "version_major": 2,
       "version_minor": 0
      },
      "text/plain": [
       "HBox(children=(IntProgress(value=0, description='Batch', max=30, style=ProgressStyle(description_width='initia…"
      ]
     },
     "metadata": {},
     "output_type": "display_data"
    },
    {
     "name": "stdout",
     "output_type": "stream",
     "text": [
      "tensor(4.5657, device='cuda:0', grad_fn=<NllLoss2DBackward>)"
     ]
    },
    {
     "data": {
      "application/vnd.jupyter.widget-view+json": {
       "model_id": "df732192fd824fcea5ed1a10bde49829",
       "version_major": 2,
       "version_minor": 0
      },
      "text/plain": [
       "HBox(children=(IntProgress(value=0, max=10), HTML(value='')))"
      ]
     },
     "metadata": {},
     "output_type": "display_data"
    },
    {
     "name": "stdout",
     "output_type": "stream",
     "text": [
      "val_acc: 0.0375, val_loss:4.57391357421875\n"
     ]
    }
   ],
   "source": [
    "model = LSTMTagger(embedding_dim=50,hidden_dim=128,vocab_size=len(note_to_int), num_layers=8, batch_size=32).cuda()\n",
    "loss_function = nn.CrossEntropyLoss().cuda()\n",
    "optimizer = optim.SGD(model.parameters(), lr=0.1)\n",
    "\n",
    "for epoch in tqdm(range(4), desc='Epoch'):  # again, normally you would NOT do 4 epochs, it is toy data\n",
    "    for i, (inputs, labels) in enumerate(tqdm(tr_loader, desc='Batch')):\n",
    "        \n",
    "        # Step 1. Remember that Pytorch accumulates gradients.\n",
    "        # We need to clear them out before each instance\n",
    "        model.zero_grad()\n",
    "        optimizer.zero_grad()\n",
    "\n",
    "        # Also, we need to clear out the hidden state of the LSTM,\n",
    "        # detaching it from its history on the last instance.\n",
    "        model.hidden = model.init_hidden()\n",
    "\n",
    "        # Step 2. Get our inputs ready for the network, that is, turn them into\n",
    "        # Tensors of word indices.\n",
    "        inputs, labels = Variable(inputs).cuda(), Variable(labels).cuda()\n",
    "\n",
    "        # Step 3. Run our forward pass.\n",
    "        tag_scores = model(inputs)\n",
    "\n",
    "        # Step 4. Compute the loss, gradients, and update the parameters by\n",
    "        #  calling optimizer.step()\n",
    "        loss = loss_function(tag_scores, labels)\n",
    "        loss.backward()\n",
    "        sys.stdout.write('\\r'+str(loss))\n",
    "        optimizer.step()\n",
    "    \n",
    "    # Validation\n",
    "    val_acc = 0\n",
    "    val_loss = 0\n",
    "    for i, (inputs, labels) in enumerate(tqdm(val_loader), desc='Val'):\n",
    "        inputs, labels = Variable(inputs).cuda(), Variable(labels).cuda()\n",
    "        val_tag_scores = model(inputs)\n",
    "        val_loss += loss_function(val_tag_scores, labels)\n",
    "        val_acc += acc(val_tag_scores, labels)\n",
    "        \n",
    "    val_acc, val_loss = val_acc/(i+1), val_loss/(i+1)\n",
    "    print('val_acc: {}, val_loss:{}'.format(val_acc, val_loss))\n",
    "    "
   ]
  },
  {
   "cell_type": "code",
   "execution_count": 180,
   "metadata": {},
   "outputs": [],
   "source": [
    "torch.save(model.state_dict(), 'models/lstm_model')"
   ]
  },
  {
   "cell_type": "code",
   "execution_count": 37,
   "metadata": {},
   "outputs": [],
   "source": [
    "model = LSTMTagger(embedding_dim=50,hidden_dim=128,vocab_size=len(note_to_int), num_layers=8, batch_size=32).cuda()\n",
    "model.load_state_dict(torch.load('models/lstm_model'))"
   ]
  },
  {
   "cell_type": "markdown",
   "metadata": {},
   "source": [
    "### Test"
   ]
  },
  {
   "cell_type": "code",
   "execution_count": 38,
   "metadata": {},
   "outputs": [
    {
     "data": {
      "text/plain": [
       "tensor([[ 94, 116,  75, 111, 108, 103,  97,  83],\n",
       "        [110,  34,  88,  88, 118,  67,  94,  94],\n",
       "        [ 34, 118, 110, 107,  12,  94,  44, 118],\n",
       "        [110,  88,  25, 103, 108, 111,  75, 108],\n",
       "        [ 94,  94, 115,  94,  97,  83,  88,  97],\n",
       "        [ 34, 119,  89, 111, 103, 111, 108,  83],\n",
       "        [ 97,  88,  94, 100, 103,  67, 119,  94],\n",
       "        [ 81,  88,  88,  57, 102, 102, 118,  67],\n",
       "        [118, 110, 107,  12, 103,  88,  34,  88],\n",
       "        [ 88, 110,  88, 118,  67, 100,  94, 118]])"
      ]
     },
     "execution_count": 38,
     "metadata": {},
     "output_type": "execute_result"
    }
   ],
   "source": [
    "next(iter(tr_loader))[0][:10]"
   ]
  },
  {
   "cell_type": "code",
   "execution_count": 39,
   "metadata": {},
   "outputs": [],
   "source": [
    "tags = next(iter(tr_loader))[1]"
   ]
  },
  {
   "cell_type": "code",
   "execution_count": 40,
   "metadata": {},
   "outputs": [
    {
     "data": {
      "text/plain": [
       "tensor([[119,  44, 111, 119,  89,  81,  89,  57],\n",
       "        [108,   5, 108, 111, 119, 108, 103,  67],\n",
       "        [100,  94,  34,  88,  94,  67, 118,  88],\n",
       "        [106, 108,  57, 103, 108,  57, 103,  97],\n",
       "        [ 97, 108, 111,  34, 108, 103,  97,  94],\n",
       "        [107,  88,  81,  94, 100,  88, 107, 107],\n",
       "        [100,  94, 100, 103, 100,  88, 118, 100],\n",
       "        [119, 113, 108, 113,  31, 108, 103, 103],\n",
       "        [ 34, 108, 111, 119,  89,  34, 116,  89],\n",
       "        [100,  94,  88,  57, 118, 110, 118,  67],\n",
       "        [ 89,  88,  97,  94,  47,  88, 115,  94],\n",
       "        [ 89, 119, 111, 108,  83,  97,  88,  97],\n",
       "        [ 34,  97, 103,  94,  88,  12, 110, 107],\n",
       "        [118,  88,  94, 118, 100,  81,  88,  94],\n",
       "        [100, 103,  94, 118,  94,  88,  81,  88],\n",
       "        [ 67, 103, 103, 100,  94,  88, 108,   5],\n",
       "        [ 94,  67, 103, 103,  88,  34, 103, 103],\n",
       "        [103,  97,  12,  88,  94,  97, 103,  34],\n",
       "        [ 94, 118,  88,  94,  97, 103,  34, 102],\n",
       "        [103, 108, 111, 119,  89, 119, 108, 103],\n",
       "        [103, 108, 113, 108,   5, 119, 111, 108],\n",
       "        [ 94,  88, 103,  44,  97, 103, 108,  83],\n",
       "        [103,  97, 103,  34, 103,  12,  97, 103],\n",
       "        [107,  44, 110, 118, 119, 111,  12, 103],\n",
       "        [ 89, 119,  67, 119, 111,  34, 111, 108],\n",
       "        [108, 103, 111,  67,  89, 103, 111,  89],\n",
       "        [ 67, 103, 103, 103, 108, 103, 100,  94],\n",
       "        [ 34, 116,  89, 108,  83, 111, 108, 108],\n",
       "        [108, 103, 100,  94,  57,  88, 118, 110],\n",
       "        [118,  67,  94, 118, 102, 107, 110, 118],\n",
       "        [111,  34,  89,  88,  89, 119,  67, 111],\n",
       "        [103,  95,  25,  89, 116,  75,  94,  94]])"
      ]
     },
     "execution_count": 40,
     "metadata": {},
     "output_type": "execute_result"
    }
   ],
   "source": [
    "tags"
   ]
  },
  {
   "cell_type": "code",
   "execution_count": 41,
   "metadata": {},
   "outputs": [],
   "source": [
    "preds = model(next(iter(tr_loader))[0].cuda()).cpu().detach().numpy()"
   ]
  },
  {
   "cell_type": "code",
   "execution_count": 42,
   "metadata": {},
   "outputs": [
    {
     "data": {
      "text/plain": [
       "(32, 120, 8)"
      ]
     },
     "execution_count": 42,
     "metadata": {},
     "output_type": "execute_result"
    }
   ],
   "source": [
    "preds.shape"
   ]
  },
  {
   "cell_type": "code",
   "execution_count": 43,
   "metadata": {},
   "outputs": [
    {
     "data": {
      "text/plain": [
       "array([[ 13,  13,  13,  13,  13,  13,  13,  13],\n",
       "       [ 13,  13,  13,  13,  13,  13,  13,  13],\n",
       "       [ 13,  13,  13,  13,  13,  13,  13,  13],\n",
       "       [ 13,  13,  13,  28,  13,  13,  13,  13],\n",
       "       [ 13,  13,  13,  13,  13,  13,  13,  13],\n",
       "       [ 13,  13,  13,  13,  13,  13,  13,  13],\n",
       "       [ 13,  13,  28,  13,  13,  28,  28,  13],\n",
       "       [ 28,  28,  28,  28,  28,  28,  28,  28],\n",
       "       [ 58,  58,  58,  58,  58,  58,  58,  58],\n",
       "       [ 13,  13,  43,  13,  43,  13,  13,  13],\n",
       "       [ 13,  13,  28,  13,  28,  13,  13,  13],\n",
       "       [ 13,  13,  13,  28,  13,  13,  13,  43],\n",
       "       [ 58,  58,  58,  58,  58,  58,  58,  58],\n",
       "       [ 13,  13,  13,  13,  13,  13,  13,  13],\n",
       "       [ 13,  13,  43,  13,  13,  13,  13,  13],\n",
       "       [ 13,  13,  13,  13,  28,  13,  13,  13],\n",
       "       [ 13,  13,  13,  13,  13,  13,  43,  13],\n",
       "       [ 28,  13,  28,  13,  13,  13,  13,  13],\n",
       "       [ 13,  13,  28,  13,  13,  13,  28,  13],\n",
       "       [ 43,  13,  13,  58,  13,  13,  13,  13],\n",
       "       [ 13, 103,  13,  13,  13,  28,  13,  13],\n",
       "       [ 13,  13, 118,  13,  28,  13,  13,  13],\n",
       "       [ 13,  13,  13,  13,  13,  13,  13,  13],\n",
       "       [ 13,  13,  13,  43, 103,  13,  13,  13],\n",
       "       [ 13,  13,  13,  13,  13,  13,  13,  28],\n",
       "       [ 13,  13,  28,  13,  13,  13,  13,  13],\n",
       "       [ 13,  13,  43,  13,  43,  13,  13,  13],\n",
       "       [ 13,  13, 118,  13,  13,  13,  13,  13],\n",
       "       [ 13,  13,  13,  13,  73,  13,  13,  13],\n",
       "       [ 28,  13,  73,  13,  13,  28,  28,  13],\n",
       "       [ 13,  58,  13,  13,  13,  13,  13,  13],\n",
       "       [ 13,  13,  43,  13,  28,  13,  73,  13]])"
      ]
     },
     "execution_count": 43,
     "metadata": {},
     "output_type": "execute_result"
    }
   ],
   "source": [
    "np.argmax(preds, axis=1)"
   ]
  },
  {
   "cell_type": "code",
   "execution_count": null,
   "metadata": {},
   "outputs": [],
   "source": []
  }
 ],
 "metadata": {
  "kernelspec": {
   "display_name": "Python 3",
   "language": "python",
   "name": "python3"
  },
  "language_info": {
   "codemirror_mode": {
    "name": "ipython",
    "version": 3
   },
   "file_extension": ".py",
   "mimetype": "text/x-python",
   "name": "python",
   "nbconvert_exporter": "python",
   "pygments_lexer": "ipython3",
   "version": "3.7.1"
  }
 },
 "nbformat": 4,
 "nbformat_minor": 2
}
